{
 "cells": [
  {
   "cell_type": "code",
   "execution_count": 6,
   "metadata": {},
   "outputs": [],
   "source": [
    "import pandas as pd\n",
    "import math"
   ]
  },
  {
   "cell_type": "code",
   "execution_count": 7,
   "metadata": {},
   "outputs": [
    {
     "data": {
      "text/html": [
       "<div>\n",
       "<style scoped>\n",
       "    .dataframe tbody tr th:only-of-type {\n",
       "        vertical-align: middle;\n",
       "    }\n",
       "\n",
       "    .dataframe tbody tr th {\n",
       "        vertical-align: top;\n",
       "    }\n",
       "\n",
       "    .dataframe thead th {\n",
       "        text-align: right;\n",
       "    }\n",
       "</style>\n",
       "<table border=\"1\" class=\"dataframe\">\n",
       "  <thead>\n",
       "    <tr style=\"text-align: right;\">\n",
       "      <th></th>\n",
       "      <th>Outlook</th>\n",
       "      <th>Temp</th>\n",
       "      <th>Humidity</th>\n",
       "      <th>Wind</th>\n",
       "      <th>Play Tennis</th>\n",
       "    </tr>\n",
       "    <tr>\n",
       "      <th>Day</th>\n",
       "      <th></th>\n",
       "      <th></th>\n",
       "      <th></th>\n",
       "      <th></th>\n",
       "      <th></th>\n",
       "    </tr>\n",
       "  </thead>\n",
       "  <tbody>\n",
       "    <tr>\n",
       "      <th>1</th>\n",
       "      <td>Sunny</td>\n",
       "      <td>Hot</td>\n",
       "      <td>High</td>\n",
       "      <td>Weak</td>\n",
       "      <td>No</td>\n",
       "    </tr>\n",
       "    <tr>\n",
       "      <th>2</th>\n",
       "      <td>Sunny</td>\n",
       "      <td>Hot</td>\n",
       "      <td>High</td>\n",
       "      <td>Strong</td>\n",
       "      <td>No</td>\n",
       "    </tr>\n",
       "    <tr>\n",
       "      <th>3</th>\n",
       "      <td>Overcast</td>\n",
       "      <td>Hot</td>\n",
       "      <td>High</td>\n",
       "      <td>Weak</td>\n",
       "      <td>Yes</td>\n",
       "    </tr>\n",
       "    <tr>\n",
       "      <th>4</th>\n",
       "      <td>Rain</td>\n",
       "      <td>Mild</td>\n",
       "      <td>High</td>\n",
       "      <td>Weak</td>\n",
       "      <td>Yes</td>\n",
       "    </tr>\n",
       "    <tr>\n",
       "      <th>5</th>\n",
       "      <td>Rain</td>\n",
       "      <td>Cool</td>\n",
       "      <td>Normal</td>\n",
       "      <td>Weak</td>\n",
       "      <td>Yes</td>\n",
       "    </tr>\n",
       "    <tr>\n",
       "      <th>6</th>\n",
       "      <td>Rain</td>\n",
       "      <td>Cool</td>\n",
       "      <td>Normal</td>\n",
       "      <td>Strong</td>\n",
       "      <td>No</td>\n",
       "    </tr>\n",
       "    <tr>\n",
       "      <th>7</th>\n",
       "      <td>Overcast</td>\n",
       "      <td>Cool</td>\n",
       "      <td>Normal</td>\n",
       "      <td>Strong</td>\n",
       "      <td>Yes</td>\n",
       "    </tr>\n",
       "    <tr>\n",
       "      <th>8</th>\n",
       "      <td>Sunny</td>\n",
       "      <td>Mild</td>\n",
       "      <td>High</td>\n",
       "      <td>Weak</td>\n",
       "      <td>No</td>\n",
       "    </tr>\n",
       "    <tr>\n",
       "      <th>9</th>\n",
       "      <td>Sunny</td>\n",
       "      <td>Cool</td>\n",
       "      <td>Normal</td>\n",
       "      <td>Weak</td>\n",
       "      <td>Yes</td>\n",
       "    </tr>\n",
       "    <tr>\n",
       "      <th>10</th>\n",
       "      <td>Rain</td>\n",
       "      <td>Mild</td>\n",
       "      <td>Normal</td>\n",
       "      <td>Weak</td>\n",
       "      <td>Yes</td>\n",
       "    </tr>\n",
       "    <tr>\n",
       "      <th>11</th>\n",
       "      <td>Sunny</td>\n",
       "      <td>Mild</td>\n",
       "      <td>Normal</td>\n",
       "      <td>Strong</td>\n",
       "      <td>Yes</td>\n",
       "    </tr>\n",
       "    <tr>\n",
       "      <th>12</th>\n",
       "      <td>Overcast</td>\n",
       "      <td>Mild</td>\n",
       "      <td>High</td>\n",
       "      <td>Strong</td>\n",
       "      <td>Yes</td>\n",
       "    </tr>\n",
       "    <tr>\n",
       "      <th>13</th>\n",
       "      <td>Overcast</td>\n",
       "      <td>Hot</td>\n",
       "      <td>Normal</td>\n",
       "      <td>Weak</td>\n",
       "      <td>Yes</td>\n",
       "    </tr>\n",
       "    <tr>\n",
       "      <th>14</th>\n",
       "      <td>Rain</td>\n",
       "      <td>Mild</td>\n",
       "      <td>High</td>\n",
       "      <td>Strong</td>\n",
       "      <td>No</td>\n",
       "    </tr>\n",
       "  </tbody>\n",
       "</table>\n",
       "</div>"
      ],
      "text/plain": [
       "      Outlook  Temp Humidity    Wind Play Tennis\n",
       "Day                                             \n",
       "1       Sunny   Hot     High    Weak          No\n",
       "2       Sunny   Hot     High  Strong          No\n",
       "3    Overcast   Hot     High    Weak         Yes\n",
       "4        Rain  Mild     High    Weak         Yes\n",
       "5        Rain  Cool   Normal    Weak         Yes\n",
       "6        Rain  Cool   Normal  Strong          No\n",
       "7    Overcast  Cool   Normal  Strong         Yes\n",
       "8       Sunny  Mild     High    Weak          No\n",
       "9       Sunny  Cool   Normal    Weak         Yes\n",
       "10       Rain  Mild   Normal    Weak         Yes\n",
       "11      Sunny  Mild   Normal  Strong         Yes\n",
       "12   Overcast  Mild     High  Strong         Yes\n",
       "13   Overcast   Hot   Normal    Weak         Yes\n",
       "14       Rain  Mild     High  Strong          No"
      ]
     },
     "execution_count": 7,
     "metadata": {},
     "output_type": "execute_result"
    }
   ],
   "source": [
    "path = 'D:\\\\C\\\\docs\\\\DTU\\\\2. Second sem\\\\ML\\\\Lab\\\\4'\n",
    "filename = 'DecisionTreeData'\n",
    "filename+= '.csv'\n",
    "df = pd.read_csv(path + '\\\\' + filename, index_col='Day')\n",
    "df"
   ]
  },
  {
   "cell_type": "code",
   "execution_count": 8,
   "metadata": {},
   "outputs": [
    {
     "data": {
      "text/plain": [
       "'Play Tennis'"
      ]
     },
     "execution_count": 8,
     "metadata": {},
     "output_type": "execute_result"
    }
   ],
   "source": [
    "TARGET = df.columns[len(df.columns)-1]\n",
    "TARGET"
   ]
  },
  {
   "cell_type": "markdown",
   "metadata": {},
   "source": [
    "Find target values in a dataframe"
   ]
  },
  {
   "cell_type": "code",
   "execution_count": 9,
   "metadata": {},
   "outputs": [],
   "source": [
    "def find_target(data) :\n",
    "    # columns of dataframe\n",
    "    cols = list(data.columns)\n",
    "\n",
    "    # target values for the column\n",
    "    tgt_val = cols[len(cols)-1]\n",
    "    target = set(data[tgt_val].tolist())\n",
    "\n",
    "    return tgt_val, target"
   ]
  },
  {
   "cell_type": "markdown",
   "metadata": {},
   "source": [
    "Calculating entropy of S(Entire Dataframe)"
   ]
  },
  {
   "cell_type": "code",
   "execution_count": 10,
   "metadata": {},
   "outputs": [],
   "source": [
    "def find_S(data) :\n",
    "    tgt_val, target = find_target(data)\n",
    "\n",
    "    S = 0\n",
    "    count = {}\n",
    "\n",
    "    for i in target :\n",
    "        count[i]=0\n",
    "    tgt = data[tgt_val].tolist()\n",
    "\n",
    "    for i in tgt:\n",
    "        count[i]+=1\n",
    "\n",
    "    for val in count :\n",
    "        tmp = count[val]/len(tgt)\n",
    "        S-= tmp * math.log2(tmp)\n",
    "    return S"
   ]
  },
  {
   "cell_type": "markdown",
   "metadata": {},
   "source": [
    "Entropy for entire Dataset(For target values)"
   ]
  },
  {
   "cell_type": "code",
   "execution_count": 11,
   "metadata": {},
   "outputs": [
    {
     "data": {
      "text/plain": [
       "0.9402859586706311"
      ]
     },
     "execution_count": 11,
     "metadata": {},
     "output_type": "execute_result"
    }
   ],
   "source": [
    "S = find_S(df)\n",
    "S"
   ]
  },
  {
   "cell_type": "markdown",
   "metadata": {},
   "source": [
    "Unique values in a column"
   ]
  },
  {
   "cell_type": "code",
   "execution_count": 12,
   "metadata": {},
   "outputs": [],
   "source": [
    "def val_count(data, col, val) :\n",
    "    return data.index[data[col]==val]"
   ]
  },
  {
   "cell_type": "markdown",
   "metadata": {},
   "source": [
    "Unique values for every target"
   ]
  },
  {
   "cell_type": "code",
   "execution_count": 13,
   "metadata": {},
   "outputs": [],
   "source": [
    "def tgt_count(data, col, val) :\n",
    "    \n",
    "    val_idx = val_count(data, col, val)\n",
    "    temp = {}\n",
    "\n",
    "    tgt_val, target = find_target(data)\n",
    "\n",
    "    for i in target:\n",
    "        temp[i]=0\n",
    "\n",
    "    for idx in val_idx:\n",
    "        temp[data.loc[idx][tgt_val]]+=1\n",
    "        \n",
    "    return temp"
   ]
  },
  {
   "cell_type": "markdown",
   "metadata": {},
   "source": [
    "Function to find Entropy for a column value"
   ]
  },
  {
   "cell_type": "code",
   "execution_count": 14,
   "metadata": {},
   "outputs": [],
   "source": [
    "def entropy(data, col, val) :\n",
    "    temp = tgt_count(data, col, val)\n",
    "    \n",
    "    n = 0\n",
    "    for i in temp:\n",
    "        if temp[i]==0 :\n",
    "            return 0\n",
    "        n+=temp[i]\n",
    "    \n",
    "    ans = 0\n",
    "    for i in temp:\n",
    "        t = temp[i]/n\n",
    "        ans-= t * math.log2(t)\n",
    "    return ans"
   ]
  },
  {
   "cell_type": "markdown",
   "metadata": {},
   "source": [
    "Function to find gain for a column"
   ]
  },
  {
   "cell_type": "code",
   "execution_count": 15,
   "metadata": {},
   "outputs": [],
   "source": [
    "def gain(data, col) :\n",
    "    ans = S\n",
    "\n",
    "    tmp = set(data[col].tolist())\n",
    "\n",
    "    tgt_val, target = find_target(data)\n",
    "\n",
    "    for val in tmp:    \n",
    "        col_val = tgt_count(data, col, val) \n",
    "        col_val_count = sum(col_val.values())\n",
    "\n",
    "        ans-= col_val_count/len(data[tgt_val]) * entropy(data, col, val)\n",
    "    return ans"
   ]
  },
  {
   "cell_type": "code",
   "execution_count": 16,
   "metadata": {},
   "outputs": [
    {
     "name": "stdout",
     "output_type": "stream",
     "text": [
      "Outlook  :  0.24674981977443933\n",
      "Temp  :  0.02922256565895487\n",
      "Humidity  :  0.15183550136234159\n",
      "Wind  :  0.048127030408269544\n"
     ]
    }
   ],
   "source": [
    "def sample_run(df):\n",
    "    cols = list(df.columns)\n",
    "    features = cols[ : len(cols)-1]\n",
    "\n",
    "    for feature in features :\n",
    "        print(feature , ' : ', gain(df, feature))\n",
    "\n",
    "sample_run(df)"
   ]
  },
  {
   "cell_type": "markdown",
   "metadata": {},
   "source": [
    "Function for finding Max gain in a column"
   ]
  },
  {
   "cell_type": "code",
   "execution_count": 17,
   "metadata": {},
   "outputs": [],
   "source": [
    "def get_max_gain_feature(data) :\n",
    "    cols = list(data.columns)\n",
    "    features = cols[ : len(cols)-1]\n",
    "\n",
    "    max_gain = gain(data, features[0])\n",
    "    max_gain_feature = features[0]\n",
    "\n",
    "    for feature in features :\n",
    "        gn = gain(data, feature)\n",
    "        \n",
    "        if gn > max_gain :\n",
    "            max_gain = gn\n",
    "            max_gain_feature = feature\n",
    "\n",
    "    return max_gain_feature"
   ]
  },
  {
   "cell_type": "markdown",
   "metadata": {},
   "source": [
    "Node class for a Column value"
   ]
  },
  {
   "cell_type": "code",
   "execution_count": 18,
   "metadata": {},
   "outputs": [],
   "source": [
    "class Node :\n",
    "    def __init__(self, col_name=None, edge=None, df=None, tgt_val=None) :\n",
    "        self.col_name = col_name\n",
    "        self.df = df\n",
    "        self.edge = edge\n",
    "        self.tgt_val = tgt_val"
   ]
  },
  {
   "cell_type": "markdown",
   "metadata": {},
   "source": [
    "Recursive function for generating Decision Tree"
   ]
  },
  {
   "cell_type": "code",
   "execution_count": 19,
   "metadata": {},
   "outputs": [],
   "source": [
    "adj_list = []\n",
    "indx = 0\n",
    "\n",
    "def generate_tree(data, index) :\n",
    "    if len(set(data[TARGET])) <= 1 :\n",
    "        return\n",
    "\n",
    "    col_name = get_max_gain_feature(data)\n",
    "    \n",
    "    for col in set(data[col_name]) :\n",
    "        df = data[data[col_name] == col]\n",
    "\n",
    "        temp = Node(col_name, col, df)\n",
    "        adj_list.append(temp)\n",
    "        \n",
    "        tgt_val = 'Many'\n",
    "        data_tmp = list(df[TARGET])\n",
    "        if len(set(data_tmp)) == 1 :\n",
    "            tgt_val = data_tmp[0]\n",
    "        \n",
    "        temp.tgt_val = tgt_val\n",
    "\n",
    "        generate_tree(df, index+1)"
   ]
  },
  {
   "cell_type": "code",
   "execution_count": 20,
   "metadata": {},
   "outputs": [],
   "source": [
    "generate_tree(df, 0)"
   ]
  },
  {
   "cell_type": "markdown",
   "metadata": {},
   "source": [
    "Printing Node in DFS manner along with feature value and Target value"
   ]
  },
  {
   "cell_type": "code",
   "execution_count": 21,
   "metadata": {},
   "outputs": [
    {
     "name": "stdout",
     "output_type": "stream",
     "text": [
      "Feature Name :  Outlook ,     Feature Value :  Sunny ,   Target Value :  Many\n",
      "Feature Name :  Humidity ,     Feature Value :  Normal ,   Target Value :  Yes\n",
      "Feature Name :  Humidity ,     Feature Value :  High ,   Target Value :  No\n",
      "Feature Name :  Outlook ,     Feature Value :  Overcast ,   Target Value :  Yes\n",
      "Feature Name :  Outlook ,     Feature Value :  Rain ,   Target Value :  Many\n",
      "Feature Name :  Wind ,     Feature Value :  Weak ,   Target Value :  Yes\n",
      "Feature Name :  Wind ,     Feature Value :  Strong ,   Target Value :  No\n"
     ]
    }
   ],
   "source": [
    "for nn in adj_list : \n",
    "    print('Feature Name : ', nn.col_name, ',     Feature Value : ', nn.edge, \",   Target Value : \", nn.tgt_val)"
   ]
  }
 ],
 "metadata": {
  "interpreter": {
   "hash": "f1680fa01d71a00f68f22c8ea440229b1dd33f2e70cc503dc3e512cd091a2af1"
  },
  "kernelspec": {
   "display_name": "Python 3 (ipykernel)",
   "language": "python",
   "name": "python3"
  },
  "language_info": {
   "codemirror_mode": {
    "name": "ipython",
    "version": 3
   },
   "file_extension": ".py",
   "mimetype": "text/x-python",
   "name": "python",
   "nbconvert_exporter": "python",
   "pygments_lexer": "ipython3",
   "version": "3.9.7"
  }
 },
 "nbformat": 4,
 "nbformat_minor": 2
}
