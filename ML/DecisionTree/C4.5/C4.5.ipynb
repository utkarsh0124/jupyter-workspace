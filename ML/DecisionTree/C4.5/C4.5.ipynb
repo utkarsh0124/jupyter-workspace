{
 "cells": [
  {
   "cell_type": "code",
   "execution_count": 7,
   "metadata": {},
   "outputs": [],
   "source": [
    "import pandas as pd\n",
    "import math\n",
    "import sys"
   ]
  },
  {
   "cell_type": "code",
   "execution_count": 8,
   "metadata": {
    "scrolled": false
   },
   "outputs": [
    {
     "data": {
      "text/html": [
       "<div>\n",
       "<style scoped>\n",
       "    .dataframe tbody tr th:only-of-type {\n",
       "        vertical-align: middle;\n",
       "    }\n",
       "\n",
       "    .dataframe tbody tr th {\n",
       "        vertical-align: top;\n",
       "    }\n",
       "\n",
       "    .dataframe thead th {\n",
       "        text-align: right;\n",
       "    }\n",
       "</style>\n",
       "<table border=\"1\" class=\"dataframe\">\n",
       "  <thead>\n",
       "    <tr style=\"text-align: right;\">\n",
       "      <th></th>\n",
       "      <th>WorkPeriod</th>\n",
       "      <th>Income</th>\n",
       "      <th>Married</th>\n",
       "      <th>Rank</th>\n",
       "      <th>Buy House</th>\n",
       "    </tr>\n",
       "  </thead>\n",
       "  <tbody>\n",
       "    <tr>\n",
       "      <th>0</th>\n",
       "      <td>Short</td>\n",
       "      <td>High</td>\n",
       "      <td>No</td>\n",
       "      <td>High</td>\n",
       "      <td>No</td>\n",
       "    </tr>\n",
       "    <tr>\n",
       "      <th>1</th>\n",
       "      <td>Short</td>\n",
       "      <td>High</td>\n",
       "      <td>No</td>\n",
       "      <td>High</td>\n",
       "      <td>No</td>\n",
       "    </tr>\n",
       "    <tr>\n",
       "      <th>2</th>\n",
       "      <td>Average</td>\n",
       "      <td>Medium</td>\n",
       "      <td>Yes</td>\n",
       "      <td>High</td>\n",
       "      <td>Yes</td>\n",
       "    </tr>\n",
       "    <tr>\n",
       "      <th>3</th>\n",
       "      <td>Long</td>\n",
       "      <td>Low</td>\n",
       "      <td>Yes</td>\n",
       "      <td>High</td>\n",
       "      <td>Yes</td>\n",
       "    </tr>\n",
       "    <tr>\n",
       "      <th>4</th>\n",
       "      <td>Long</td>\n",
       "      <td>Low</td>\n",
       "      <td>Yes</td>\n",
       "      <td>Low</td>\n",
       "      <td>Yes</td>\n",
       "    </tr>\n",
       "    <tr>\n",
       "      <th>5</th>\n",
       "      <td>Long</td>\n",
       "      <td>Low</td>\n",
       "      <td>No</td>\n",
       "      <td>High</td>\n",
       "      <td>No</td>\n",
       "    </tr>\n",
       "    <tr>\n",
       "      <th>6</th>\n",
       "      <td>Average</td>\n",
       "      <td>Low</td>\n",
       "      <td>No</td>\n",
       "      <td>Low</td>\n",
       "      <td>Yes</td>\n",
       "    </tr>\n",
       "    <tr>\n",
       "      <th>7</th>\n",
       "      <td>Short</td>\n",
       "      <td>Medium</td>\n",
       "      <td>Yes</td>\n",
       "      <td>Low</td>\n",
       "      <td>No</td>\n",
       "    </tr>\n",
       "    <tr>\n",
       "      <th>8</th>\n",
       "      <td>Short</td>\n",
       "      <td>Low</td>\n",
       "      <td>No</td>\n",
       "      <td>Low</td>\n",
       "      <td>Yes</td>\n",
       "    </tr>\n",
       "    <tr>\n",
       "      <th>9</th>\n",
       "      <td>Long</td>\n",
       "      <td>Medium</td>\n",
       "      <td>Yes</td>\n",
       "      <td>High</td>\n",
       "      <td>Yes</td>\n",
       "    </tr>\n",
       "    <tr>\n",
       "      <th>10</th>\n",
       "      <td>Short</td>\n",
       "      <td>Low</td>\n",
       "      <td>No</td>\n",
       "      <td>Low</td>\n",
       "      <td>Yes</td>\n",
       "    </tr>\n",
       "    <tr>\n",
       "      <th>11</th>\n",
       "      <td>Average</td>\n",
       "      <td>Medium</td>\n",
       "      <td>Yes</td>\n",
       "      <td>Low</td>\n",
       "      <td>No</td>\n",
       "    </tr>\n",
       "    <tr>\n",
       "      <th>12</th>\n",
       "      <td>Average</td>\n",
       "      <td>Medium</td>\n",
       "      <td>Yes</td>\n",
       "      <td>High</td>\n",
       "      <td>Yes</td>\n",
       "    </tr>\n",
       "    <tr>\n",
       "      <th>13</th>\n",
       "      <td>Long</td>\n",
       "      <td>High</td>\n",
       "      <td>Yes</td>\n",
       "      <td>Low</td>\n",
       "      <td>No</td>\n",
       "    </tr>\n",
       "    <tr>\n",
       "      <th>14</th>\n",
       "      <td>Average</td>\n",
       "      <td>High</td>\n",
       "      <td>No</td>\n",
       "      <td>Low</td>\n",
       "      <td>No</td>\n",
       "    </tr>\n",
       "  </tbody>\n",
       "</table>\n",
       "</div>"
      ],
      "text/plain": [
       "   WorkPeriod  Income Married  Rank Buy House\n",
       "0       Short    High      No  High        No\n",
       "1       Short    High      No  High        No\n",
       "2     Average  Medium     Yes  High       Yes\n",
       "3        Long     Low     Yes  High       Yes\n",
       "4        Long     Low     Yes   Low       Yes\n",
       "5        Long     Low      No  High        No\n",
       "6     Average     Low      No   Low       Yes\n",
       "7       Short  Medium     Yes   Low        No\n",
       "8       Short     Low      No   Low       Yes\n",
       "9        Long  Medium     Yes  High       Yes\n",
       "10      Short     Low      No   Low       Yes\n",
       "11    Average  Medium     Yes   Low        No\n",
       "12    Average  Medium     Yes  High       Yes\n",
       "13       Long    High     Yes   Low        No\n",
       "14    Average    High      No   Low        No"
      ]
     },
     "execution_count": 8,
     "metadata": {},
     "output_type": "execute_result"
    }
   ],
   "source": [
    "path = 'D:\\\\C\\\\docs\\\\DTU\\\\2. Second sem\\\\ML\\\\Lab\\\\5'\n",
    "filename = 'Dataset'\n",
    "filename+= '.csv'\n",
    "df = pd.read_csv(path + '\\\\' + filename)\n",
    "df"
   ]
  },
  {
   "cell_type": "code",
   "execution_count": 9,
   "metadata": {},
   "outputs": [
    {
     "data": {
      "text/plain": [
       "'Buy House'"
      ]
     },
     "execution_count": 9,
     "metadata": {},
     "output_type": "execute_result"
    }
   ],
   "source": [
    "TARGET = df.columns[len(df.columns)-1]\n",
    "TARGET"
   ]
  },
  {
   "cell_type": "markdown",
   "metadata": {},
   "source": [
    "Find target values in a dataframe"
   ]
  },
  {
   "cell_type": "code",
   "execution_count": 10,
   "metadata": {},
   "outputs": [],
   "source": [
    "def find_target(data) :\n",
    "    # columns of dataframe\n",
    "    cols = list(data.columns)\n",
    "\n",
    "    # target values for the column\n",
    "    tgt_val = cols[len(cols)-1]\n",
    "    target = set(data[tgt_val].tolist())\n",
    "\n",
    "    return tgt_val, target"
   ]
  },
  {
   "cell_type": "markdown",
   "metadata": {},
   "source": [
    "Calculating entropy of S(Entire Dataframe)"
   ]
  },
  {
   "cell_type": "code",
   "execution_count": 11,
   "metadata": {},
   "outputs": [],
   "source": [
    "def find_S(data) :\n",
    "    tgt_val, target = find_target(data)\n",
    "\n",
    "    S = 0\n",
    "    count = {}\n",
    "\n",
    "    for i in target :\n",
    "        count[i]=0\n",
    "    tgt = data[tgt_val].tolist()\n",
    "\n",
    "    for i in tgt:\n",
    "        count[i]+=1\n",
    "\n",
    "    for val in count :\n",
    "        tmp = count[val]/len(tgt)\n",
    "        S-= tmp * math.log2(tmp)\n",
    "    return S"
   ]
  },
  {
   "cell_type": "markdown",
   "metadata": {},
   "source": [
    "Entropy for entire Dataset(For target values)"
   ]
  },
  {
   "cell_type": "code",
   "execution_count": 12,
   "metadata": {},
   "outputs": [
    {
     "data": {
      "text/plain": [
       "0.9967916319816366"
      ]
     },
     "execution_count": 12,
     "metadata": {},
     "output_type": "execute_result"
    }
   ],
   "source": [
    "S = find_S(df)\n",
    "S"
   ]
  },
  {
   "cell_type": "markdown",
   "metadata": {},
   "source": [
    "Unique values in a column"
   ]
  },
  {
   "cell_type": "code",
   "execution_count": 13,
   "metadata": {},
   "outputs": [],
   "source": [
    "def val_count(data, col, val) :\n",
    "    return data.index[data[col]==val]"
   ]
  },
  {
   "cell_type": "markdown",
   "metadata": {},
   "source": [
    "Unique values for every target"
   ]
  },
  {
   "cell_type": "code",
   "execution_count": 14,
   "metadata": {},
   "outputs": [],
   "source": [
    "def tgt_count(data, col, val) :\n",
    "    \n",
    "    val_idx = val_count(data, col, val)\n",
    "    temp = {}\n",
    "\n",
    "    tgt_val, target = find_target(data)\n",
    "\n",
    "    for i in target:\n",
    "        temp[i]=0\n",
    "\n",
    "    for idx in val_idx:\n",
    "        temp[data.loc[idx][tgt_val]]+=1\n",
    "        \n",
    "    return temp"
   ]
  },
  {
   "cell_type": "markdown",
   "metadata": {},
   "source": [
    "Function to find Entropy for a column value"
   ]
  },
  {
   "cell_type": "code",
   "execution_count": 15,
   "metadata": {},
   "outputs": [],
   "source": [
    "def entropy(data, col, val) :\n",
    "    temp = tgt_count(data, col, val)\n",
    "    \n",
    "    n = 0\n",
    "    for i in temp:\n",
    "        if temp[i]==0 :\n",
    "            return 0\n",
    "        n+=temp[i]\n",
    "    \n",
    "    ans = 0\n",
    "    for i in temp:\n",
    "        t = temp[i]/n\n",
    "        ans-= t * math.log2(t)\n",
    "    return ans"
   ]
  },
  {
   "cell_type": "markdown",
   "metadata": {},
   "source": [
    "Function to find gain for a column"
   ]
  },
  {
   "cell_type": "code",
   "execution_count": 16,
   "metadata": {},
   "outputs": [],
   "source": [
    "def gain(data, col) :\n",
    "    ans = S\n",
    "\n",
    "    tmp = set(data[col].tolist())\n",
    "\n",
    "    tgt_val, target = find_target(data)\n",
    "\n",
    "    for val in tmp:    \n",
    "        col_val = tgt_count(data, col, val) \n",
    "        col_val_count = sum(col_val.values())\n",
    "\n",
    "        ans-= col_val_count/len(data[tgt_val]) * entropy(data, col, val)\n",
    "    return ans"
   ]
  },
  {
   "cell_type": "markdown",
   "metadata": {},
   "source": [
    "Calculating Split Info"
   ]
  },
  {
   "cell_type": "code",
   "execution_count": 17,
   "metadata": {},
   "outputs": [],
   "source": [
    "def split_info(data, col) :\n",
    "    val = []\n",
    "    for i in set(df[col]) :\n",
    "        val.append(i)\n",
    "    \n",
    "    ans = 0\n",
    "    for i in val :\n",
    "        tmp = len(val_count(df, col, i)) / df.shape[0]\n",
    "        ans+= tmp * math.log2(tmp)\n",
    "\n",
    "    return -ans"
   ]
  },
  {
   "cell_type": "markdown",
   "metadata": {},
   "source": [
    "Gain Ratio"
   ]
  },
  {
   "cell_type": "code",
   "execution_count": 18,
   "metadata": {},
   "outputs": [],
   "source": [
    "def gain_ratio(gain, split) :\n",
    "    return gain / split"
   ]
  },
  {
   "cell_type": "markdown",
   "metadata": {},
   "source": [
    "Function for finding Max gain in a column"
   ]
  },
  {
   "cell_type": "code",
   "execution_count": 19,
   "metadata": {},
   "outputs": [],
   "source": [
    "def get_max_gain_ratio_feature(data) :\n",
    "    cols = list(data.columns)\n",
    "    features = cols[ : len(cols)-1]\n",
    "    \n",
    "    gn = gain(data, features[0])\n",
    "    si = split_info(data, features[0])\n",
    "    \n",
    "    max_gain_ratio = gain_ratio(gn, si)\n",
    "\n",
    "    max_gain_ratio_feature = features[0]\n",
    "\n",
    "    for feature in features :\n",
    "        gn = gain(data, feature)\n",
    "        si = split_info(data, feature)\n",
    "    \n",
    "        gnr = gain_ratio(gn, si)\n",
    "                \n",
    "        if gnr > max_gain_ratio :\n",
    "            max_gain_ratio = gnr\n",
    "            max_gain_ratio_feature = feature\n",
    "\n",
    "    return max_gain_ratio_feature"
   ]
  },
  {
   "cell_type": "markdown",
   "metadata": {},
   "source": [
    "Node class for a Column value"
   ]
  },
  {
   "cell_type": "code",
   "execution_count": 20,
   "metadata": {},
   "outputs": [],
   "source": [
    "class Node :\n",
    "    def __init__(self, col_name=None, edge=None, df=None, tgt_val=None) :\n",
    "        self.col_name = col_name\n",
    "        self.df = df\n",
    "        self.edge = edge\n",
    "        self.tgt_val = tgt_val"
   ]
  },
  {
   "cell_type": "markdown",
   "metadata": {},
   "source": [
    "Recursive function for generating Decision Tree"
   ]
  },
  {
   "cell_type": "code",
   "execution_count": 21,
   "metadata": {},
   "outputs": [],
   "source": [
    "adj_list = []\n",
    "indx = 0\n",
    "\n",
    "def generate_tree(data, index) :\n",
    "    if len(set(data[TARGET])) <= 1 :\n",
    "        return\n",
    "\n",
    "    col_name = get_max_gain_ratio_feature(data)\n",
    "    \n",
    "    for col in set(data[col_name]) :\n",
    "        df = data[data[col_name] == col]\n",
    "\n",
    "        temp = Node(col_name, col, df)\n",
    "        adj_list.append(temp)\n",
    "        \n",
    "        tgt_val = 'Many'\n",
    "        data_tmp = list(df[TARGET])\n",
    "        if len(set(data_tmp)) == 1 :\n",
    "            tgt_val = data_tmp[0]\n",
    "        \n",
    "        temp.tgt_val = tgt_val\n",
    "\n",
    "        generate_tree(df, index+1)"
   ]
  },
  {
   "cell_type": "code",
   "execution_count": 22,
   "metadata": {},
   "outputs": [],
   "source": [
    "generate_tree(df, 0)"
   ]
  },
  {
   "cell_type": "markdown",
   "metadata": {},
   "source": [
    "Printing Node in DFS manner along with feature value and Target value"
   ]
  },
  {
   "cell_type": "code",
   "execution_count": 23,
   "metadata": {},
   "outputs": [
    {
     "name": "stdout",
     "output_type": "stream",
     "text": [
      "Feature Name :  Income ,     Feature Value :  Medium ,   Target Value :  Many\n",
      "Feature Name :  Rank ,     Feature Value :  Low ,   Target Value :  No\n",
      "Feature Name :  Rank ,     Feature Value :  High ,   Target Value :  Yes\n",
      "Feature Name :  Income ,     Feature Value :  Low ,   Target Value :  Many\n",
      "Feature Name :  Rank ,     Feature Value :  Low ,   Target Value :  Yes\n",
      "Feature Name :  Rank ,     Feature Value :  High ,   Target Value :  Many\n",
      "Feature Name :  Married ,     Feature Value :  No ,   Target Value :  No\n",
      "Feature Name :  Married ,     Feature Value :  Yes ,   Target Value :  Yes\n",
      "Feature Name :  Income ,     Feature Value :  High ,   Target Value :  No\n"
     ]
    }
   ],
   "source": [
    "for nn in adj_list : \n",
    "    print('Feature Name : ', nn.col_name, ',     Feature Value : ', nn.edge, \",   Target Value : \", nn.tgt_val)"
   ]
  }
 ],
 "metadata": {
  "interpreter": {
   "hash": "a56812d850410f5adc436bd80e11faaabc289d9a419e98556a8a8549851affee"
  },
  "kernelspec": {
   "display_name": "Python 3 (ipykernel)",
   "language": "python",
   "name": "python3"
  },
  "language_info": {
   "codemirror_mode": {
    "name": "ipython",
    "version": 3
   },
   "file_extension": ".py",
   "mimetype": "text/x-python",
   "name": "python",
   "nbconvert_exporter": "python",
   "pygments_lexer": "ipython3",
   "version": "3.9.7"
  }
 },
 "nbformat": 4,
 "nbformat_minor": 2
}
